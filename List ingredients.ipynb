{
 "cells": [
  {
   "cell_type": "code",
   "execution_count": 18,
   "id": "3d3d0fe8",
   "metadata": {},
   "outputs": [
    {
     "name": "stdout",
     "output_type": "stream",
     "text": [
      "['Ackee', 'Allspice', 'Almond Extract', 'Almond Milk', 'Almonds', 'Ancho Chillies', 'Anchovy Fillet', 'Apple Cider Vinegar', 'Apples', 'Apricot', 'Apricot Jam', 'Asparagus', 'Aubergine', 'Avocado', 'Baby Aubergine', 'Baby Plum Tomatoes', 'Baby Squid', 'Bacon', 'Baguette', 'Baked Beans', 'Baking Powder', 'Balsamic Vinegar', 'Banana', 'Barbeque Sauce', 'Basil', 'Basil Leaves', 'Basmati Rice', 'Bay Leaf', 'Bay Leaves', 'Bean Sprouts', 'Beef', 'Beef Brisket', 'Beef Fillet', 'Beef Gravy', 'Beef Kidney', 'Beef Shin', 'Beef Stock', 'Beef Stock Concentrate', 'Beetroot', 'Bicarbonate Of Soda', 'Biryani Masala', 'Black Beans', 'Black Olives', 'Black Pepper', 'Black Pudding', 'Black Treacle', 'Blackberries', 'Blue Food Colouring', 'Blueberries', 'Boiling Water', 'Borlotti Beans', 'Bouquet Garni', 'Bowtie Pasta', 'Braeburn Apples', 'Bramley Apples', 'Brandy', 'Bread', 'Bread Rolls', 'Breadcrumbs', 'Brie', 'Broad Beans', 'Broccoli', 'Brown Lentils', 'Brown Rice', 'Brown Sugar', 'Brussels Sprouts', 'Buckwheat', 'Bulgur Wheat', 'Bun', 'Buns', 'Butter', 'Butter Beans', 'Butternut Squash', 'Cabbage', 'Cacao', 'Cajun', 'Candied Peel', 'Canned Tomatoes', 'Cannellini Beans', 'Canola Oil', 'Capers', 'Caramel', 'Caramel Sauce', 'Caraway Seed', 'Cardamom', 'Carrots', 'Cashew Nuts', 'Cashews', 'Caster Sugar', 'Cayenne Pepper', 'Celeriac', 'Celery', 'Celery Salt', 'Challots', 'Charlotte Potatoes', 'Cheddar Cheese', 'Cheese', 'Cheese Curds', 'Cheese Slices', 'Cherry', 'Cherry Tomatoes', 'Chestnut Mushroom', 'Chestnuts', 'Chicken', 'Chicken Breast', 'Chicken Breasts', 'Chicken Legs', 'Chicken Stock', 'Chicken Stock Concentrate', 'Chicken Stock Cube', 'Chicken Thighs', 'Chickpeas', 'Chili Powder', 'Chilled Butter', 'Chilli', 'Chilli Powder', 'Chinese Broccoli', 'Chives', 'Chocolate Chips', 'Chopped Onion', 'Chopped Parsley', 'Chopped Tomatoes', 'Chorizo', 'Christmas Pudding', 'Ciabatta', 'Cider', 'Cilantro', 'Cinnamon', 'Cinnamon Stick', 'Clams', 'Clotted Cream', 'Cloves', 'Coco Sugar', 'Cocoa', 'Coconut Cream', 'Coconut Milk', 'Cod', 'Colby Jack Cheese', 'Cold Water', 'Condensed Milk', 'Cooking wine', 'Coriander', 'Coriander Leaves', 'Coriander Seeds', 'Corn Flour', 'Corn Tortillas', 'Cornstarch', 'Courgettes', 'Couscous', 'Cream', 'Cream Cheese', 'Creamed Corn', 'Creme Fraiche', 'Crusty Bread', 'Cubed Feta Cheese', 'Cucumber', 'Cumin', 'Cumin Seeds', 'Currants', 'Curry Powder', 'Custard', 'Custard Powder', 'Dark Brown Soft Sugar', 'Dark Brown Sugar', 'Dark Chocolate', 'Dark Chocolate Chips', 'Dark Rum', 'Dark Soft Brown Sugar', 'Dark Soy Sauce', 'Demerara Sugar', 'Desiccated Coconut', 'Diced Tomatoes', 'Digestive Biscuits', 'Dijon Mustard', 'Dill', 'Dill Pickles', 'Doner Meat', 'Doubanjiang', 'Double Cream', 'Dried Apricots', 'Dried Fruit', 'Dried Oregano', 'Dry White Wine', 'Duck', 'Duck Fat', 'Duck Legs', 'Duck Sauce', 'Egg', 'Egg Plants', 'Egg Rolls', 'Egg White', 'Egg Yolks', 'Eggs', 'Enchilada Sauce', 'English Muffins', 'English Mustard', 'Extra Virgin Olive Oil', 'Fajita Seasoning', 'Farfalle', 'Fennel', 'Fennel Bulb', 'Fennel Seeds', 'Fenugreek', 'Fermented Black Beans', 'Feta', 'Fettuccine', 'Fideo', 'Figs', 'Filo Pastry', 'Fish Sauce', 'Fish Stock', 'Flaked Almonds', 'Flax Eggs', 'Flour', 'Flour Tortilla', 'Floury Potatoes', 'Free-range Egg, Beaten', 'Free-range Eggs, Beaten', 'French Lentils', 'Fresh Basil', 'Fresh Thyme', 'Freshly Chopped Parsley', 'Fries', 'Fromage Frais', 'Frozen Peas', 'Fruit Mix', 'Full Fat Yogurt', 'Garam Masala', 'Garlic', 'Garlic Clove', 'Garlic Powder', 'Garlic Sauce', 'Gelatine Leafs', 'Ghee', 'Gherkin Relish', 'Ginger', 'Ginger Cordial', 'Ginger Garlic Paste', 'Ginger Paste', 'Glace Cherry', 'Goat Meat', 'Goats Cheese', 'Gochujang', 'Golden Syrup', 'Goose Fat', 'Gouda Cheese', 'Grand Marnier', 'Granulated Sugar', 'Grape Tomatoes', 'Greek Yogurt', 'Green Beans', 'Green Chilli', 'Green Olives', 'Green Pepper', 'Green Red Lentils', 'Green Salsa', 'Ground Almonds', 'Ground Beef', 'Ground Cumin', 'Ground Ginger', 'Ground Pork', 'Gruyère', 'Haddock', 'Ham', 'Hard Taco Shells', 'Haricot Beans', 'Harissa Spice', 'Hazlenuts', 'Heavy Cream', 'Herring', 'Honey', 'Horseradish', 'Hot Beef Stock', 'Hotsauce', 'Ice Cream', 'Iceberg Lettuce', 'Icing Sugar', 'Italian Fennel Sausages', 'Italian Seasoning', 'Jalapeno', 'Jam', 'Jasmine Rice', 'Jerk', 'Jerusalem Artichokes', 'Kale', 'Khus Khus', 'Kidney Beans', 'Kielbasa', 'King Prawns', 'Kosher Salt', 'Lamb', 'Lamb Kidney', 'Lamb Leg', 'Lamb Loin Chops', 'Lamb Mince', 'Lamb Shoulder', 'Lard', 'Lasagne Sheets', 'Lean Minced Beef', 'Leek', 'Lemon', 'Lemon Juice', 'Lemon Zest', 'Lemons', 'Lentils', 'Lettuce', 'Light Brown Soft Sugar', 'Light Rum', 'Lime', 'Linguine Pasta', 'Little Gem Lettuce', 'Macaroni', 'Mackerel', 'Madras Paste', 'Malt Vinegar', 'Maple Syrup', 'Marjoram', 'Mars Bar', 'Marzipan', 'Mascarpone', 'Massaman Curry Paste', 'Mayonnaise', 'Medjool Dates', 'Meringue Nests', 'Milk', 'Milk Chocolate', 'Minced Beef', 'Minced Garlic', 'Minced Pork', 'Mincemeat', 'Miniature Marshmallows', 'Mint', 'Mirin', 'Mixed Grain', 'Mixed Peel', 'Mixed Spice', 'Monkfish', 'Monterey Jack Cheese', 'Mozzarella', 'Mozzarella Balls', 'Muffins', 'Mulukhiyah', 'Muscovado Sugar', 'Mushrooms', 'Mussels', 'Mustard', 'Mustard Powder', 'Mustard Seeds', 'Naan Bread', 'Noodles', 'Nutmeg', 'Oatmeal', 'Oats', 'Oil', 'Olive Oil', 'Onion', 'Onion Salt', 'Onions', 'Orange', 'Orange Blossom Water', 'Orange Zest', 'Oregano', 'Oxtail', 'Oyster Sauce', 'Oysters', 'Paccheri Pasta', 'Paella Rice', 'Paneer', 'Pappardelle Pasta', 'Paprika', 'Parma Ham', 'Parmesan', 'Parmesan Cheese', 'Parmigiano-reggiano', 'Parsley', 'Passata', 'Peaches', 'Peanut Brittle', 'Peanut Butter', 'Peanut Cookies', 'Peanut Oil', 'Peanuts', 'Pears', 'Peas', 'Pecan Nuts', 'Pecorino', 'Penne Rigate', 'Pepper', 'Persian Cucumber', 'Pickle Juice', 'Pilchards', 'Pine Nuts', 'Pink Food Colouring', 'Pinto Beans', 'Pita Bread', 'Pitted Black Olives', 'Plain Chocolate', 'Plain Flour', 'Plum Tomatoes', 'Polish Sausage', 'Pork', 'Pork Chops', 'Potato Starch', 'Potatoe Buns', 'Potatoes', 'Powdered Sugar', 'Prawns', 'Pretzels', 'Prosciutto', 'Puff Pastry', 'Pumpkin', 'Quinoa', 'Raisins', 'Rapeseed Oil', 'Ras el hanout', 'Raspberries', 'Raspberry Jam', 'Raw King Prawns', 'Red Chile Flakes', 'Red Chilli', 'Red Chilli Powder', 'Red Food Colouring', 'Red Onions', 'Red Pepper', 'Red Pepper Flakes', 'Red Snapper', 'Red Wine', 'Red Wine Jelly', 'Red Wine Vinegar', 'Redcurrants', 'Refried Beans', 'Rhubarb', 'Rice', 'Rice Krispies', 'Rice Noodles', 'Rice Stick Noodles', 'Rice Vermicelli', 'Rice Vinegar', 'Rice wine', 'Ricotta', 'Rigatoni', 'Roasted Vegetables', 'Rocket', 'Rolled Oats', 'Rose water', 'Rosemary', 'Rum', 'Saffron', 'Sage', 'Sake', 'Salmon', 'Salsa', 'Salt', 'Salt Cod', 'Salted Butter', 'Sardines', 'Sauerkraut', 'Sausages', 'Scallions', 'Scotch Bonnet', 'Sea Salt', 'Self-raising Flour', 'Semi-skimmed Milk', 'Sesame Seed', 'Sesame Seed Burger Buns', 'Sesame Seed Oil', 'Shallots', 'Sherry', 'Shiitake Mushrooms', 'Shortcrust Pastry', 'Shortening', 'Shredded Mexican Cheese', 'Shredded Monterey Jack Cheese', 'Sichuan Pepper', 'Single Cream', 'Small Potatoes', 'Smoked Haddock', 'Smoked Paprika', 'Smoked Salmon', 'Smoky Paprika', 'Sour Cream', 'Soy Sauce', 'Soya Milk', 'Spaghetti', 'Spinach', 'Spring Onions', 'Squash', 'Squid', 'Sriracha', 'Star Anise', 'Starch', 'Stilton Cheese', 'Stir-fry Vegetables', 'Stout', 'Strawberries', 'Suet', 'Sugar', 'Sugar Snap Peas', 'Sultanas', 'Sun-Dried Tomatoes', 'Sunflower Oil', 'Sushi Rice', 'Swede', 'Sweet Potatoes', 'Sweetcorn', 'Tabasco Sauce', 'Tagliatelle', 'Tahini', 'Tamarind Ball', 'Tamarind Paste', 'Tarragon Leaves', 'Thai Fish Sauce', 'Thai Green Curry Paste', 'Thai Red Curry Paste', 'Thyme', 'Tiger Prawns', 'Tinned Tomatos', 'Toffee Popcorn', 'Tofu', 'Tomato', 'Tomato Ketchup', 'Tomato Puree', 'Tomato Sauce', 'Tomatoes', 'Toor Dal', 'Tortillas', 'Treacle', 'Tripe', 'Truffle Oil', 'Tuna', 'Turkey Mince', 'Turmeric', 'Turmeric Powder', 'Turnips', 'Udon Noodles', 'Unsalted Butter', 'Vanilla', 'Vanilla Extract', 'Veal', 'Vegan Butter', 'Vegetable Oil', 'Vegetable Stock', 'Vegetable Stock Cube', 'Vermicelli Pasta', 'Vinaigrette Dressing', 'Vine Leaves', 'Vine Tomatoes', 'Vinegar', 'Walnuts', 'Warm Water', 'Water', 'Water Chestnut', 'White Chocolate', 'White Chocolate Chips', 'White Fish', 'White Fish Fillets', 'White Flour', 'White Vinegar', 'White Wine', 'White Wine Vinegar', 'Whole Milk', 'Whole Wheat', 'Wholegrain Bread', 'Wild Mushrooms', 'Wonton Skin', 'Wood Ear Mushrooms', 'Worcestershire Sauce', 'Yeast', 'Yellow Food Colouring', 'Yellow Onion', 'Yellow Pepper', 'Yogurt', 'Yukon Gold Potatoes', 'Zucchini']\n",
      "Which ingredients do you want to use? Bacon\n"
     ]
    }
   ],
   "source": [
    "import requests\n",
    "import json\n",
    "\n",
    "response_API = requests.get(\"https://www.themealdb.com/api/json/v1/1/list.php?i=list\")\n",
    "\n",
    "data =response_API.text\n",
    "parse_json = json.loads(data)\n",
    "new_variable = parse_json[\"meals\"][9][\"strIngredient\"]\n",
    "\n",
    "liste = []\n",
    "for number in range(0,len(parse_json [\"meals\"])-1):\n",
    "    ingredient = parse_json[\"meals\"][number][\"strIngredient\"]\n",
    "    liste.append (ingredient)\n",
    "list.sort (liste)\n",
    "print (liste)\n",
    "\n",
    "print (\"Which ingredients do you want to use?\", new_variable)\n",
    "\n"
   ]
  }
 ],
 "metadata": {
  "kernelspec": {
   "display_name": "Python 3 (ipykernel)",
   "language": "python",
   "name": "python3"
  },
  "language_info": {
   "codemirror_mode": {
    "name": "ipython",
    "version": 3
   },
   "file_extension": ".py",
   "mimetype": "text/x-python",
   "name": "python",
   "nbconvert_exporter": "python",
   "pygments_lexer": "ipython3",
   "version": "3.11.5"
  }
 },
 "nbformat": 4,
 "nbformat_minor": 5
}
